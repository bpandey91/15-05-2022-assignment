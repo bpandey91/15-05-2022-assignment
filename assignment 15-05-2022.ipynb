{
 "cells": [
  {
   "cell_type": "code",
   "execution_count": 27,
   "id": "bf17439b",
   "metadata": {},
   "outputs": [],
   "source": [
    "s = \"this is My First Python programming class and i am learNING python string and its function\""
   ]
  },
  {
   "cell_type": "code",
   "execution_count": 4,
   "id": "a45d8908",
   "metadata": {},
   "outputs": [
    {
     "data": {
      "text/plain": [
       "'tssyityopgmncsa alrNph rgni ni'"
      ]
     },
     "execution_count": 4,
     "metadata": {},
     "output_type": "execute_result"
    }
   ],
   "source": [
    "s[0:300:3]"
   ]
  },
  {
   "cell_type": "code",
   "execution_count": 6,
   "id": "4c93e40d",
   "metadata": {},
   "outputs": [
    {
     "data": {
      "text/plain": [
       "'noitcnuf sti dna gnirts nohtyp GNINrael ma i dna ssalc gnimmargorp nohtyP tsriF yM si siht'"
      ]
     },
     "execution_count": 6,
     "metadata": {},
     "output_type": "execute_result"
    }
   ],
   "source": [
    "s[-1:-300:-1]"
   ]
  },
  {
   "cell_type": "code",
   "execution_count": 7,
   "id": "d675a2df",
   "metadata": {},
   "outputs": [
    {
     "data": {
      "text/plain": [
       "'THIS IS MY FIRST PYTHON PROGRAMMING CLASS AND I AM LEARNING PYTHON STRING AND ITS FUNCTION'"
      ]
     },
     "execution_count": 7,
     "metadata": {},
     "output_type": "execute_result"
    }
   ],
   "source": [
    "s.upper()"
   ]
  },
  {
   "cell_type": "code",
   "execution_count": 16,
   "id": "035c66c4",
   "metadata": {},
   "outputs": [
    {
     "data": {
      "text/plain": [
       "['THIS',\n",
       " 'IS',\n",
       " 'MY',\n",
       " 'FIRST',\n",
       " 'PYTHON',\n",
       " 'PROGRAMMING',\n",
       " 'CLASS',\n",
       " 'AND',\n",
       " 'I',\n",
       " 'AM',\n",
       " 'LEARNING',\n",
       " 'PYTHON',\n",
       " 'STRING',\n",
       " 'AND',\n",
       " 'ITS',\n",
       " 'FUNCTION']"
      ]
     },
     "execution_count": 16,
     "metadata": {},
     "output_type": "execute_result"
    }
   ],
   "source": [
    "s.upper().split()"
   ]
  },
  {
   "cell_type": "code",
   "execution_count": 19,
   "id": "9e96cd1e",
   "metadata": {},
   "outputs": [
    {
     "data": {
      "text/plain": [
       "'this is my first python programming class and i am learning python string and its function'"
      ]
     },
     "execution_count": 19,
     "metadata": {},
     "output_type": "execute_result"
    }
   ],
   "source": [
    "s.lower()"
   ]
  },
  {
   "cell_type": "code",
   "execution_count": 21,
   "id": "f5eddcdb",
   "metadata": {},
   "outputs": [
    {
     "data": {
      "text/plain": [
       "'THIS IS MY FIRST PYTHON PROGRAMMING CLASS AND I AM LEARNING PYTHON STRING AND ITS FUNCTION'"
      ]
     },
     "execution_count": 21,
     "metadata": {},
     "output_type": "execute_result"
    }
   ],
   "source": [
    "s.upper()"
   ]
  },
  {
   "cell_type": "code",
   "execution_count": 28,
   "id": "5af9e51a",
   "metadata": {},
   "outputs": [
    {
     "data": {
      "text/plain": [
       "False"
      ]
     },
     "execution_count": 28,
     "metadata": {},
     "output_type": "execute_result"
    }
   ],
   "source": [
    "s.isalpha()"
   ]
  },
  {
   "cell_type": "code",
   "execution_count": 24,
   "id": "401dabfd",
   "metadata": {},
   "outputs": [
    {
     "data": {
      "text/plain": [
       "False"
      ]
     },
     "execution_count": 24,
     "metadata": {},
     "output_type": "execute_result"
    }
   ],
   "source": [
    "s.isalnum()"
   ]
  },
  {
   "cell_type": "code",
   "execution_count": null,
   "id": "82de6acb",
   "metadata": {},
   "outputs": [],
   "source": [
    "s.isalpha()........it should be all alphabate not number not space not any symbol.\n",
    "s.isalnum()........it can be mixture of number ans aplhabate including space,number,alphabate & symbols"
   ]
  },
  {
   "cell_type": "code",
   "execution_count": null,
   "id": "fc899f9e",
   "metadata": {},
   "outputs": [],
   "source": [
    "7. Try to give an example of expand tab::::::------->(doubt)"
   ]
  },
  {
   "cell_type": "code",
   "execution_count": 104,
   "id": "5cc10d36",
   "metadata": {},
   "outputs": [],
   "source": [
    "a='   bipin pandey '"
   ]
  },
  {
   "cell_type": "code",
   "execution_count": 105,
   "id": "3e927147",
   "metadata": {},
   "outputs": [
    {
     "data": {
      "text/plain": [
       "'bipin pandey'"
      ]
     },
     "execution_count": 105,
     "metadata": {},
     "output_type": "execute_result"
    }
   ],
   "source": [
    "a.strip()"
   ]
  },
  {
   "cell_type": "code",
   "execution_count": 106,
   "id": "0ccd0249",
   "metadata": {},
   "outputs": [
    {
     "data": {
      "text/plain": [
       "'bipin pandey '"
      ]
     },
     "execution_count": 106,
     "metadata": {},
     "output_type": "execute_result"
    }
   ],
   "source": [
    "a.lstrip()"
   ]
  },
  {
   "cell_type": "code",
   "execution_count": 107,
   "id": "e2caefbf",
   "metadata": {},
   "outputs": [
    {
     "data": {
      "text/plain": [
       "'   bipin pandey'"
      ]
     },
     "execution_count": 107,
     "metadata": {},
     "output_type": "execute_result"
    }
   ],
   "source": [
    "a.rstrip()"
   ]
  },
  {
   "cell_type": "code",
   "execution_count": 108,
   "id": "9e8b1812",
   "metadata": {},
   "outputs": [
    {
     "data": {
      "text/plain": [
       "'   lucky pandey '"
      ]
     },
     "execution_count": 108,
     "metadata": {},
     "output_type": "execute_result"
    }
   ],
   "source": [
    "a.replace('bipin','lucky')"
   ]
  },
  {
   "cell_type": "code",
   "execution_count": 109,
   "id": "94a5b64f",
   "metadata": {},
   "outputs": [
    {
     "data": {
      "text/plain": [
       "'%%%%%%%   bipin pandey %%%%%%%'"
      ]
     },
     "execution_count": 109,
     "metadata": {},
     "output_type": "execute_result"
    }
   ],
   "source": [
    "a.center(30,\"%\") "
   ]
  },
  {
   "cell_type": "code",
   "execution_count": null,
   "id": "c5bd0d6b",
   "metadata": {},
   "outputs": [],
   "source": [
    "11 . Write your own definition of compiler and interpretor without copy paste form internet in your own language.......(doubt)"
   ]
  },
  {
   "cell_type": "code",
   "execution_count": null,
   "id": "fab8f6a8",
   "metadata": {},
   "outputs": [],
   "source": [
    "12 . Python is a interpreted of compiled language give a clear ans with your understanding ...(doubt)"
   ]
  },
  {
   "cell_type": "code",
   "execution_count": null,
   "id": "4f22f049",
   "metadata": {},
   "outputs": [],
   "source": [
    "usecase of python.....machine learning language, web developer,s/w developer, game developer etc"
   ]
  },
  {
   "cell_type": "code",
   "execution_count": 64,
   "id": "53a79fea",
   "metadata": {},
   "outputs": [],
   "source": []
  }
 ],
 "metadata": {
  "kernelspec": {
   "display_name": "Python 3 (ipykernel)",
   "language": "python",
   "name": "python3"
  },
  "language_info": {
   "codemirror_mode": {
    "name": "ipython",
    "version": 3
   },
   "file_extension": ".py",
   "mimetype": "text/x-python",
   "name": "python",
   "nbconvert_exporter": "python",
   "pygments_lexer": "ipython3",
   "version": "3.9.7"
  }
 },
 "nbformat": 4,
 "nbformat_minor": 5
}
